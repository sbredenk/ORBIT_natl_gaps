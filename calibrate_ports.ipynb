{
 "cells": [
  {
   "cell_type": "code",
   "execution_count": 1,
   "metadata": {},
   "outputs": [],
   "source": [
    "from ORBIT import ProjectManager\n",
    "import yaml\n",
    "import pandas as pd"
   ]
  },
  {
   "cell_type": "code",
   "execution_count": 2,
   "metadata": {},
   "outputs": [],
   "source": [
    "with open(\"base.yaml\", 'r') as stream:\n",
    "    config = yaml.safe_load(stream)\n",
    "weather = pd.read_csv(\"vineyard_wind_repr_with_whales.csv\")"
   ]
  },
  {
   "cell_type": "code",
   "execution_count": 3,
   "metadata": {},
   "outputs": [
    {
     "name": "stdout",
     "output_type": "stream",
     "text": [
      "ORBIT library intialized at 'c:\\Users\\sbredenk\\Repos\\ORBIT_natl_gaps\\library'\n",
      "TurbineInstallation:\n",
      "\t Warning: 'Feeder 0' Deck Space Capacity Exceeded\n",
      "TurbineInstallation:\n",
      "\t Warning: 'Feeder 1' Deck Space Capacity Exceeded\n"
     ]
    }
   ],
   "source": [
    "project = ProjectManager(config, weather=weather)\n",
    "project.run()"
   ]
  },
  {
   "cell_type": "code",
   "execution_count": 4,
   "metadata": {},
   "outputs": [
    {
     "data": {
      "text/plain": [
       "{'Substructure': 550870071.6105514,\n",
       " 'Substructure Installation': 64625453.84981616,\n",
       " 'Turbine Installation': 47542755.650684945,\n",
       " 'Turbine': 780000000,\n",
       " 'Soft': 387000000,\n",
       " 'Project': 151250000.0}"
      ]
     },
     "execution_count": 4,
     "metadata": {},
     "output_type": "execute_result"
    }
   ],
   "source": [
    "project.capex_breakdown"
   ]
  },
  {
   "cell_type": "code",
   "execution_count": 5,
   "metadata": {},
   "outputs": [],
   "source": [
    "logs = pd.DataFrame(project.actions)"
   ]
  },
  {
   "cell_type": "code",
   "execution_count": 6,
   "metadata": {},
   "outputs": [
    {
     "data": {
      "text/html": [
       "<div>\n",
       "<style scoped>\n",
       "    .dataframe tbody tr th:only-of-type {\n",
       "        vertical-align: middle;\n",
       "    }\n",
       "\n",
       "    .dataframe tbody tr th {\n",
       "        vertical-align: top;\n",
       "    }\n",
       "\n",
       "    .dataframe thead th {\n",
       "        text-align: right;\n",
       "    }\n",
       "</style>\n",
       "<table border=\"1\" class=\"dataframe\">\n",
       "  <thead>\n",
       "    <tr style=\"text-align: right;\">\n",
       "      <th></th>\n",
       "      <th>cost_multiplier</th>\n",
       "      <th>agent</th>\n",
       "      <th>action</th>\n",
       "      <th>duration</th>\n",
       "      <th>cost</th>\n",
       "      <th>level</th>\n",
       "      <th>time</th>\n",
       "      <th>phase</th>\n",
       "      <th>phase_name</th>\n",
       "      <th>location</th>\n",
       "      <th>site_depth</th>\n",
       "      <th>hub_height</th>\n",
       "    </tr>\n",
       "  </thead>\n",
       "  <tbody>\n",
       "    <tr>\n",
       "      <th>0</th>\n",
       "      <td>1.0</td>\n",
       "      <td>WTIV</td>\n",
       "      <td>Mobilize</td>\n",
       "      <td>168.000000</td>\n",
       "      <td>1.260000e+06</td>\n",
       "      <td>ACTION</td>\n",
       "      <td>0.000000</td>\n",
       "      <td>MonopileInstallation</td>\n",
       "      <td>NaN</td>\n",
       "      <td>NaN</td>\n",
       "      <td>NaN</td>\n",
       "      <td>NaN</td>\n",
       "    </tr>\n",
       "    <tr>\n",
       "      <th>1</th>\n",
       "      <td>0.5</td>\n",
       "      <td>Feeder 0</td>\n",
       "      <td>Mobilize</td>\n",
       "      <td>72.000000</td>\n",
       "      <td>1.125000e+05</td>\n",
       "      <td>ACTION</td>\n",
       "      <td>0.000000</td>\n",
       "      <td>MonopileInstallation</td>\n",
       "      <td>NaN</td>\n",
       "      <td>NaN</td>\n",
       "      <td>NaN</td>\n",
       "      <td>NaN</td>\n",
       "    </tr>\n",
       "    <tr>\n",
       "      <th>2</th>\n",
       "      <td>0.5</td>\n",
       "      <td>Feeder 1</td>\n",
       "      <td>Mobilize</td>\n",
       "      <td>72.000000</td>\n",
       "      <td>1.125000e+05</td>\n",
       "      <td>ACTION</td>\n",
       "      <td>0.000000</td>\n",
       "      <td>MonopileInstallation</td>\n",
       "      <td>NaN</td>\n",
       "      <td>NaN</td>\n",
       "      <td>NaN</td>\n",
       "      <td>NaN</td>\n",
       "    </tr>\n",
       "    <tr>\n",
       "      <th>3</th>\n",
       "      <td>NaN</td>\n",
       "      <td>WTIV</td>\n",
       "      <td>Transit</td>\n",
       "      <td>5.000000</td>\n",
       "      <td>3.750000e+04</td>\n",
       "      <td>ACTION</td>\n",
       "      <td>5.000000</td>\n",
       "      <td>MonopileInstallation</td>\n",
       "      <td>NaN</td>\n",
       "      <td>NaN</td>\n",
       "      <td>NaN</td>\n",
       "      <td>NaN</td>\n",
       "    </tr>\n",
       "    <tr>\n",
       "      <th>4</th>\n",
       "      <td>NaN</td>\n",
       "      <td>Feeder 0</td>\n",
       "      <td>Fasten Monopile</td>\n",
       "      <td>12.000000</td>\n",
       "      <td>3.750000e+04</td>\n",
       "      <td>ACTION</td>\n",
       "      <td>12.000000</td>\n",
       "      <td>MonopileInstallation</td>\n",
       "      <td>MonopileInstallation</td>\n",
       "      <td>NaN</td>\n",
       "      <td>NaN</td>\n",
       "      <td>NaN</td>\n",
       "    </tr>\n",
       "    <tr>\n",
       "      <th>...</th>\n",
       "      <td>...</td>\n",
       "      <td>...</td>\n",
       "      <td>...</td>\n",
       "      <td>...</td>\n",
       "      <td>...</td>\n",
       "      <td>...</td>\n",
       "      <td>...</td>\n",
       "      <td>...</td>\n",
       "      <td>...</td>\n",
       "      <td>...</td>\n",
       "      <td>...</td>\n",
       "      <td>...</td>\n",
       "    </tr>\n",
       "    <tr>\n",
       "      <th>2151</th>\n",
       "      <td>NaN</td>\n",
       "      <td>Feeder 1</td>\n",
       "      <td>Jackdown</td>\n",
       "      <td>1.666667</td>\n",
       "      <td>5.208333e+03</td>\n",
       "      <td>ACTION</td>\n",
       "      <td>6636.334702</td>\n",
       "      <td>TurbineInstallation</td>\n",
       "      <td>TurbineInstallation</td>\n",
       "      <td>NaN</td>\n",
       "      <td>NaN</td>\n",
       "      <td>NaN</td>\n",
       "    </tr>\n",
       "    <tr>\n",
       "      <th>2152</th>\n",
       "      <td>NaN</td>\n",
       "      <td>WTIV</td>\n",
       "      <td>Attach Blade</td>\n",
       "      <td>3.500000</td>\n",
       "      <td>2.625000e+04</td>\n",
       "      <td>ACTION</td>\n",
       "      <td>6639.618035</td>\n",
       "      <td>TurbineInstallation</td>\n",
       "      <td>TurbineInstallation</td>\n",
       "      <td>NaN</td>\n",
       "      <td>45.0</td>\n",
       "      <td>145.0</td>\n",
       "    </tr>\n",
       "    <tr>\n",
       "      <th>2153</th>\n",
       "      <td>NaN</td>\n",
       "      <td>WTIV</td>\n",
       "      <td>Jackdown</td>\n",
       "      <td>0.466667</td>\n",
       "      <td>3.500000e+03</td>\n",
       "      <td>ACTION</td>\n",
       "      <td>6640.084702</td>\n",
       "      <td>TurbineInstallation</td>\n",
       "      <td>TurbineInstallation</td>\n",
       "      <td>NaN</td>\n",
       "      <td>45.0</td>\n",
       "      <td>145.0</td>\n",
       "    </tr>\n",
       "    <tr>\n",
       "      <th>2154</th>\n",
       "      <td>NaN</td>\n",
       "      <td>Feeder 1</td>\n",
       "      <td>Transit</td>\n",
       "      <td>8.333333</td>\n",
       "      <td>2.604167e+04</td>\n",
       "      <td>ACTION</td>\n",
       "      <td>6644.668035</td>\n",
       "      <td>TurbineInstallation</td>\n",
       "      <td>NaN</td>\n",
       "      <td>NaN</td>\n",
       "      <td>NaN</td>\n",
       "      <td>NaN</td>\n",
       "    </tr>\n",
       "    <tr>\n",
       "      <th>2155</th>\n",
       "      <td>NaN</td>\n",
       "      <td>WTIV</td>\n",
       "      <td>Transit</td>\n",
       "      <td>5.000000</td>\n",
       "      <td>3.750000e+04</td>\n",
       "      <td>ACTION</td>\n",
       "      <td>6645.084702</td>\n",
       "      <td>TurbineInstallation</td>\n",
       "      <td>NaN</td>\n",
       "      <td>NaN</td>\n",
       "      <td>NaN</td>\n",
       "      <td>NaN</td>\n",
       "    </tr>\n",
       "  </tbody>\n",
       "</table>\n",
       "<p>2156 rows × 12 columns</p>\n",
       "</div>"
      ],
      "text/plain": [
       "      cost_multiplier     agent           action    duration          cost  \\\n",
       "0                 1.0      WTIV         Mobilize  168.000000  1.260000e+06   \n",
       "1                 0.5  Feeder 0         Mobilize   72.000000  1.125000e+05   \n",
       "2                 0.5  Feeder 1         Mobilize   72.000000  1.125000e+05   \n",
       "3                 NaN      WTIV          Transit    5.000000  3.750000e+04   \n",
       "4                 NaN  Feeder 0  Fasten Monopile   12.000000  3.750000e+04   \n",
       "...               ...       ...              ...         ...           ...   \n",
       "2151              NaN  Feeder 1         Jackdown    1.666667  5.208333e+03   \n",
       "2152              NaN      WTIV     Attach Blade    3.500000  2.625000e+04   \n",
       "2153              NaN      WTIV         Jackdown    0.466667  3.500000e+03   \n",
       "2154              NaN  Feeder 1          Transit    8.333333  2.604167e+04   \n",
       "2155              NaN      WTIV          Transit    5.000000  3.750000e+04   \n",
       "\n",
       "       level         time                 phase            phase_name  \\\n",
       "0     ACTION     0.000000  MonopileInstallation                   NaN   \n",
       "1     ACTION     0.000000  MonopileInstallation                   NaN   \n",
       "2     ACTION     0.000000  MonopileInstallation                   NaN   \n",
       "3     ACTION     5.000000  MonopileInstallation                   NaN   \n",
       "4     ACTION    12.000000  MonopileInstallation  MonopileInstallation   \n",
       "...      ...          ...                   ...                   ...   \n",
       "2151  ACTION  6636.334702   TurbineInstallation   TurbineInstallation   \n",
       "2152  ACTION  6639.618035   TurbineInstallation   TurbineInstallation   \n",
       "2153  ACTION  6640.084702   TurbineInstallation   TurbineInstallation   \n",
       "2154  ACTION  6644.668035   TurbineInstallation                   NaN   \n",
       "2155  ACTION  6645.084702   TurbineInstallation                   NaN   \n",
       "\n",
       "     location  site_depth  hub_height  \n",
       "0         NaN         NaN         NaN  \n",
       "1         NaN         NaN         NaN  \n",
       "2         NaN         NaN         NaN  \n",
       "3         NaN         NaN         NaN  \n",
       "4         NaN         NaN         NaN  \n",
       "...       ...         ...         ...  \n",
       "2151      NaN         NaN         NaN  \n",
       "2152      NaN        45.0       145.0  \n",
       "2153      NaN        45.0       145.0  \n",
       "2154      NaN         NaN         NaN  \n",
       "2155      NaN         NaN         NaN  \n",
       "\n",
       "[2156 rows x 12 columns]"
      ]
     },
     "metadata": {},
     "output_type": "display_data"
    }
   ],
   "source": [
    "display(logs)"
   ]
  },
  {
   "cell_type": "markdown",
   "metadata": {},
   "source": []
  },
  {
   "cell_type": "code",
   "execution_count": 7,
   "metadata": {},
   "outputs": [],
   "source": [
    "phase_log = logs.groupby([\"phase\"]).duration.sum().reset_index()"
   ]
  },
  {
   "cell_type": "code",
   "execution_count": 8,
   "metadata": {},
   "outputs": [
    {
     "data": {
      "text/html": [
       "<div>\n",
       "<style scoped>\n",
       "    .dataframe tbody tr th:only-of-type {\n",
       "        vertical-align: middle;\n",
       "    }\n",
       "\n",
       "    .dataframe tbody tr th {\n",
       "        vertical-align: top;\n",
       "    }\n",
       "\n",
       "    .dataframe thead th {\n",
       "        text-align: right;\n",
       "    }\n",
       "</style>\n",
       "<table border=\"1\" class=\"dataframe\">\n",
       "  <thead>\n",
       "    <tr style=\"text-align: right;\">\n",
       "      <th></th>\n",
       "      <th>phase</th>\n",
       "      <th>duration</th>\n",
       "    </tr>\n",
       "  </thead>\n",
       "  <tbody>\n",
       "    <tr>\n",
       "      <th>0</th>\n",
       "      <td>MonopileInstallation</td>\n",
       "      <td>11777.690773</td>\n",
       "    </tr>\n",
       "    <tr>\n",
       "      <th>1</th>\n",
       "      <td>TurbineInstallation</td>\n",
       "      <td>8660.790000</td>\n",
       "    </tr>\n",
       "  </tbody>\n",
       "</table>\n",
       "</div>"
      ],
      "text/plain": [
       "                  phase      duration\n",
       "0  MonopileInstallation  11777.690773\n",
       "1   TurbineInstallation   8660.790000"
      ]
     },
     "metadata": {},
     "output_type": "display_data"
    }
   ],
   "source": [
    "display(phase_log)"
   ]
  },
  {
   "cell_type": "code",
   "execution_count": 9,
   "metadata": {},
   "outputs": [],
   "source": [
    "phase_log['yr_duration'] = phase_log['duration']/8760"
   ]
  },
  {
   "cell_type": "code",
   "execution_count": 10,
   "metadata": {},
   "outputs": [
    {
     "data": {
      "text/html": [
       "<div>\n",
       "<style scoped>\n",
       "    .dataframe tbody tr th:only-of-type {\n",
       "        vertical-align: middle;\n",
       "    }\n",
       "\n",
       "    .dataframe tbody tr th {\n",
       "        vertical-align: top;\n",
       "    }\n",
       "\n",
       "    .dataframe thead th {\n",
       "        text-align: right;\n",
       "    }\n",
       "</style>\n",
       "<table border=\"1\" class=\"dataframe\">\n",
       "  <thead>\n",
       "    <tr style=\"text-align: right;\">\n",
       "      <th></th>\n",
       "      <th>phase</th>\n",
       "      <th>duration</th>\n",
       "      <th>yr_duration</th>\n",
       "    </tr>\n",
       "  </thead>\n",
       "  <tbody>\n",
       "    <tr>\n",
       "      <th>0</th>\n",
       "      <td>MonopileInstallation</td>\n",
       "      <td>11777.690773</td>\n",
       "      <td>1.344485</td>\n",
       "    </tr>\n",
       "    <tr>\n",
       "      <th>1</th>\n",
       "      <td>TurbineInstallation</td>\n",
       "      <td>8660.790000</td>\n",
       "      <td>0.988675</td>\n",
       "    </tr>\n",
       "  </tbody>\n",
       "</table>\n",
       "</div>"
      ],
      "text/plain": [
       "                  phase      duration  yr_duration\n",
       "0  MonopileInstallation  11777.690773     1.344485\n",
       "1   TurbineInstallation   8660.790000     0.988675"
      ]
     },
     "metadata": {},
     "output_type": "display_data"
    }
   ],
   "source": [
    "display(phase_log)"
   ]
  },
  {
   "attachments": {},
   "cell_type": "markdown",
   "metadata": {},
   "source": [
    "Turbines: 4x fasten times for all components (blades, tower, nacelle)\n",
    "\n",
    "Monopiles: 1.3yrs with base fasten time\n",
    "\n",
    "scenario with overlap for phases (25%)"
   ]
  },
  {
   "cell_type": "markdown",
   "metadata": {},
   "source": []
  }
 ],
 "metadata": {
  "kernelspec": {
   "display_name": "orbit-sophie",
   "language": "python",
   "name": "python3"
  },
  "language_info": {
   "codemirror_mode": {
    "name": "ipython",
    "version": 3
   },
   "file_extension": ".py",
   "mimetype": "text/x-python",
   "name": "python",
   "nbconvert_exporter": "python",
   "pygments_lexer": "ipython3",
   "version": "3.7.11"
  },
  "orig_nbformat": 4
 },
 "nbformat": 4,
 "nbformat_minor": 2
}
